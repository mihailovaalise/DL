{
  "cells": [
    {
      "cell_type": "markdown",
      "metadata": {
        "id": "_gE94V3G1RCx"
      },
      "source": [
        "# 01. Знакомство с `torch.Tensor`\n",
        "\n",
        "V 0.1 04.02.2021"
      ]
    },
    {
      "cell_type": "markdown",
      "metadata": {
        "id": "TlWOXn0f1RC7"
      },
      "source": [
        "---"
      ]
    },
    {
      "cell_type": "code",
      "execution_count": null,
      "metadata": {
        "id": "b3AW8rF-1RC9"
      },
      "outputs": [],
      "source": [
        "import torch"
      ]
    },
    {
      "cell_type": "markdown",
      "metadata": {
        "id": "vow49PuE1RC9"
      },
      "source": [
        "## 1.1 Создание тензоров и выполнение базовых операций над ними\n",
        "\n",
        "[Документация по функциям для создания тензоров](https://pytorch.org/docs/stable/torch.html#creation-ops)\n",
        "\n",
        "[Документация по функциям для работы с индексами](https://pytorch.org/docs/stable/torch.html#indexing-slicing-joining-mutating-ops)"
      ]
    },
    {
      "cell_type": "markdown",
      "metadata": {
        "id": "wBIwO1SB1RC-"
      },
      "source": [
        "1.1.1 Создайте двумерный тензор размера (8, 8). Используя как можно меньше операций, добейтесь расстановки кодов \"шахматных фигур\".\n",
        "\n",
        "Ожидаемый результат:\n",
        "\n",
        "```\n",
        "[[-4., -3., -2., -6., -5., -2., -3., -4.],\n",
        " [-1., -1., -1., -1., -1., -1., -1., -1.],\n",
        " [0., 0., 0., 0., 0., 0., 0., 0.],\n",
        " [0., 0., 0., 0., 0., 0., 0., 0.],\n",
        " [0., 0., 0., 0., 0., 0., 0., 0.],\n",
        " [0., 0., 0., 0., 0., 0., 0., 0.],\n",
        " [1., 1., 1., 1., 1., 1., 1., 1.],\n",
        " [4., 3., 2., 6., 5., 2., 3., 4.]]\n",
        "\n",
        "```"
      ]
    },
    {
      "cell_type": "code",
      "source": [
        "board = torch.zeros((8, 8))\n",
        "board[0, :] = torch.tensor([-4, -3, -2, -6, -5, -2, -3, -4])\n",
        "board[1, :] = -1\n",
        "board[6, :] = 1\n",
        "board[7, :] = torch.tensor([4, 3, 2, 6, 5, 2, 3, 4])\n",
        "\n",
        "print(board)"
      ],
      "metadata": {
        "colab": {
          "base_uri": "https://localhost:8080/"
        },
        "id": "vWhLT_9pYTT_",
        "outputId": "8038eb66-2755-456c-8607-7cabf5b24744"
      },
      "execution_count": null,
      "outputs": [
        {
          "output_type": "stream",
          "name": "stdout",
          "text": [
            "tensor([[-4., -3., -2., -6., -5., -2., -3., -4.],\n",
            "        [-1., -1., -1., -1., -1., -1., -1., -1.],\n",
            "        [ 0.,  0.,  0.,  0.,  0.,  0.,  0.,  0.],\n",
            "        [ 0.,  0.,  0.,  0.,  0.,  0.,  0.,  0.],\n",
            "        [ 0.,  0.,  0.,  0.,  0.,  0.,  0.,  0.],\n",
            "        [ 0.,  0.,  0.,  0.,  0.,  0.,  0.,  0.],\n",
            "        [ 1.,  1.,  1.,  1.,  1.,  1.,  1.,  1.],\n",
            "        [ 4.,  3.,  2.,  6.,  5.,  2.,  3.,  4.]])\n"
          ]
        }
      ]
    },
    {
      "cell_type": "markdown",
      "metadata": {
        "id": "20x5RE1V1RC_"
      },
      "source": [
        "1.1.2 Средствами `torch` рассчитать произведения четных чисел от 2 до 20 на ближайшие к ним бОльшие нечетные числа."
      ]
    },
    {
      "cell_type": "code",
      "source": [
        "even_numbers = torch.arange(2, 21, 2)\n",
        "odd_numbers = even_numbers + 1\n",
        "products = even_numbers * odd_numbers\n",
        "\n",
        "print(products)"
      ],
      "metadata": {
        "colab": {
          "base_uri": "https://localhost:8080/"
        },
        "id": "U_b0H7ufaGMW",
        "outputId": "5e8745fd-9bab-4ea9-9442-3e6a9110715e"
      },
      "execution_count": null,
      "outputs": [
        {
          "output_type": "stream",
          "name": "stdout",
          "text": [
            "tensor([  6,  20,  42,  72, 110, 156, 210, 272, 342, 420])\n"
          ]
        }
      ]
    },
    {
      "cell_type": "markdown",
      "metadata": {
        "id": "N_-t5GRM1RC_"
      },
      "source": [
        "1.1.3 Создать тензор размера 11x7 вида: [[1, 2, 3, ..., 7], [11, 12, 13, ..., 17], [21, 22, 23, ..., 27], ..., [101, 102, 103, ..., 107]]"
      ]
    },
    {
      "cell_type": "code",
      "source": [
        "rows, cols = 11, 7\n",
        "start = 1\n",
        "step = 10\n",
        "\n",
        "tensor_1_col = torch.arange(start, start + rows * step, step).reshape(rows, 1)\n",
        "tensor = tensor_1_col + torch.arange(cols)\n",
        "\n",
        "print(tensor)"
      ],
      "metadata": {
        "colab": {
          "base_uri": "https://localhost:8080/"
        },
        "id": "Ybo-a6neahaJ",
        "outputId": "ec944bb0-857b-4542-ad84-e42397e8edb5"
      },
      "execution_count": null,
      "outputs": [
        {
          "output_type": "stream",
          "name": "stdout",
          "text": [
            "tensor([[  1,   2,   3,   4,   5,   6,   7],\n",
            "        [ 11,  12,  13,  14,  15,  16,  17],\n",
            "        [ 21,  22,  23,  24,  25,  26,  27],\n",
            "        [ 31,  32,  33,  34,  35,  36,  37],\n",
            "        [ 41,  42,  43,  44,  45,  46,  47],\n",
            "        [ 51,  52,  53,  54,  55,  56,  57],\n",
            "        [ 61,  62,  63,  64,  65,  66,  67],\n",
            "        [ 71,  72,  73,  74,  75,  76,  77],\n",
            "        [ 81,  82,  83,  84,  85,  86,  87],\n",
            "        [ 91,  92,  93,  94,  95,  96,  97],\n",
            "        [101, 102, 103, 104, 105, 106, 107]])\n"
          ]
        }
      ]
    },
    {
      "cell_type": "markdown",
      "metadata": {
        "id": "oxVeUiHR1RC_"
      },
      "source": [
        "1.1.4 Написать функцию, которая для целых значений `n` и `m` будет возвращать тензор размера `n`x`m`, заполненный текстурой размера 2x2, состоящей из следующих значений:\n",
        "\n",
        "```\n",
        "0 1\n",
        "\n",
        "2 3\n",
        "\n",
        "```\n",
        "\n",
        "Пример для n = 4 и m = 5:\n",
        "\n",
        "```\n",
        "0 1 0 1 0\n",
        "\n",
        "2 3 2 3 2\n",
        "\n",
        "0 1 0 1 0\n",
        "\n",
        "2 3 2 3 2\n",
        "```"
      ]
    },
    {
      "cell_type": "code",
      "source": [
        "def create_textured_tensor(n, m):\n",
        "    texture = torch.tensor([[0, 1], [2, 3]])\n",
        "\n",
        "    num_repeats_n = (n + 1) // 2\n",
        "    num_repeats_m = (m + 1) // 2\n",
        "\n",
        "    tiled_texture = texture.repeat(num_repeats_n, num_repeats_m)\n",
        "\n",
        "    return tiled_texture[:n, :m]\n",
        "\n",
        "n, m = 4, 5\n",
        "result = create_textured_tensor(n, m)\n",
        "print(result)"
      ],
      "metadata": {
        "colab": {
          "base_uri": "https://localhost:8080/"
        },
        "id": "cYliBCFzyOao",
        "outputId": "933b4f91-68af-4f5e-ae0b-66409e109d41"
      },
      "execution_count": null,
      "outputs": [
        {
          "output_type": "stream",
          "name": "stdout",
          "text": [
            "tensor([[0, 1, 0, 1, 0],\n",
            "        [2, 3, 2, 3, 2],\n",
            "        [0, 1, 0, 1, 0],\n",
            "        [2, 3, 2, 3, 2]])\n"
          ]
        }
      ]
    },
    {
      "cell_type": "markdown",
      "metadata": {
        "id": "WH9hxJse1RDA"
      },
      "source": [
        "1.1.5 Сгенерировать двумерный тензор `t` размерности (4, 7), состоящий из случайных действительных чисел, равномерно распределенных в дипазоне от 0 до 20. Нормализовать значения массива с помощью преобразования вида $ax+b$ так, что после нормализации максимальный элемент масива будет равен 1.0, минимальный 0.0"
      ]
    },
    {
      "cell_type": "markdown",
      "metadata": {
        "id": "vPqIeewXB-mM"
      },
      "source": [
        "[Random Sampling](https://pytorch.org/docs/stable/torch.html#random-sampling)\n",
        "\n",
        "[Distributions](https://pytorch.org/docs/stable/distributions.html)"
      ]
    },
    {
      "cell_type": "code",
      "source": [
        "t = torch.rand((4, 7)) * 20\n",
        "\n",
        "t_min = t.min()\n",
        "t_max = t.max()\n",
        "\n",
        "t_normalized = (t - t_min) / (t_max - t_min)\n",
        "\n",
        "print(\"Исходный тензор:\\n\", t)\n",
        "print(\"Нормализованный тензор:\\n\", t_normalized)"
      ],
      "metadata": {
        "colab": {
          "base_uri": "https://localhost:8080/"
        },
        "id": "hGS-7CoAyQCL",
        "outputId": "34a03bb4-8f08-4817-8448-41d3b5cff130"
      },
      "execution_count": null,
      "outputs": [
        {
          "output_type": "stream",
          "name": "stdout",
          "text": [
            "Исходный тензор:\n",
            " tensor([[ 5.6577, 18.6875,  1.7047, 15.2761, 15.7307,  2.4854, 18.7940],\n",
            "        [ 5.2863,  9.0770, 19.1231, 15.1892, 14.5916,  2.6754,  8.7363],\n",
            "        [11.5979,  7.6000,  8.1460, 17.6909, 19.9373, 10.8272,  5.4905],\n",
            "        [15.1087, 13.2276,  4.5628,  9.9723,  9.3206,  2.3571,  1.5183]])\n",
            "Нормализованный тензор:\n",
            " tensor([[0.2247, 0.9321, 0.0101, 0.7469, 0.7716, 0.0525, 0.9379],\n",
            "        [0.2046, 0.4104, 0.9558, 0.7422, 0.7098, 0.0628, 0.3919],\n",
            "        [0.5472, 0.3302, 0.3598, 0.8780, 1.0000, 0.5054, 0.2157],\n",
            "        [0.7378, 0.6357, 0.1653, 0.4590, 0.4236, 0.0455, 0.0000]])\n"
          ]
        }
      ]
    },
    {
      "cell_type": "markdown",
      "metadata": {
        "id": "K_R6cwq11RDE"
      },
      "source": [
        "1.1.6 Задать два двумерных тензора `ar1` и `ar2` размерности (4, 7), состоящих из случайных целых чисел в пределах от 0 до 10. Построить двумерный тензор размерности (4, 7), каждый элемент которого представляет собой максимум из двух значений, находящихся на аналогичной позиции в массивах `ar1`, `ar2`.\n",
        "\n",
        "[Reductions ops](https://pytorch.org/docs/stable/torch.html#reduction-ops)"
      ]
    },
    {
      "cell_type": "code",
      "source": [
        "ar1 = torch.randint(0, 11, (4, 7))\n",
        "ar2 = torch.randint(0, 11, (4, 7))\n",
        "\n",
        "max_tensor = torch.max(ar1, ar2)\n",
        "\n",
        "print(\"Тензор ar1:\\n\", ar1)\n",
        "print(\"Тензор ar2:\\n\", ar2)\n",
        "print(\"Тензор с максимумами:\\n\", max_tensor)"
      ],
      "metadata": {
        "colab": {
          "base_uri": "https://localhost:8080/"
        },
        "id": "1AvXcoKRyQtA",
        "outputId": "81f5acbc-e77d-416f-8abe-4c45f22606a1"
      },
      "execution_count": null,
      "outputs": [
        {
          "output_type": "stream",
          "name": "stdout",
          "text": [
            "Тензор ar1:\n",
            " tensor([[ 4,  0,  6,  2,  7,  3,  2],\n",
            "        [ 4,  5,  4,  3,  6, 10,  0],\n",
            "        [ 4,  0,  9,  9,  9,  8, 10],\n",
            "        [ 2,  6,  8,  8,  6,  9,  9]])\n",
            "Тензор ar2:\n",
            " tensor([[8, 1, 5, 5, 2, 6, 6],\n",
            "        [1, 4, 3, 7, 8, 2, 9],\n",
            "        [2, 7, 5, 4, 8, 4, 9],\n",
            "        [0, 5, 3, 7, 0, 3, 5]])\n",
            "Тензор с максимумами:\n",
            " tensor([[ 8,  1,  6,  5,  7,  6,  6],\n",
            "        [ 4,  5,  4,  7,  8, 10,  9],\n",
            "        [ 4,  7,  9,  9,  9,  8, 10],\n",
            "        [ 2,  6,  8,  8,  6,  9,  9]])\n"
          ]
        }
      ]
    },
    {
      "cell_type": "markdown",
      "metadata": {
        "id": "x6zmMhyKBPWQ"
      },
      "source": [
        "1.1.7 Создать тензор из 20 случайных целых чисел от 0 до 100. Получить второе сверху значение в тензоре. Определить индекс этого значения."
      ]
    },
    {
      "cell_type": "code",
      "source": [
        "tensor = torch.randint(0, 101, (20,))\n",
        "\n",
        "sorted_tensor, indices = torch.sort(tensor, descending=True)\n",
        "\n",
        "second_largest_value = sorted_tensor[1]\n",
        "index_of_second_largest = indices[1]\n",
        "\n",
        "print(\"Исходный тензор:\", tensor)\n",
        "print(\"Отсортированный тензор (по убыванию):\", sorted_tensor)\n",
        "print(\"Второе по величине значение:\", second_largest_value)\n",
        "print(\"Индекс второго по величине значения:\", index_of_second_largest)"
      ],
      "metadata": {
        "colab": {
          "base_uri": "https://localhost:8080/"
        },
        "id": "XCld4rFMyRiN",
        "outputId": "25197e00-3e6f-45e4-998c-09f2bfa73117"
      },
      "execution_count": null,
      "outputs": [
        {
          "output_type": "stream",
          "name": "stdout",
          "text": [
            "Исходный тензор: tensor([45, 78, 53, 78, 11, 58, 89, 29, 18, 34, 24, 31, 70, 37, 56, 16, 12, 93,\n",
            "        64, 86])\n",
            "Отсортированный тензор (по убыванию): tensor([93, 89, 86, 78, 78, 70, 64, 58, 56, 53, 45, 37, 34, 31, 29, 24, 18, 16,\n",
            "        12, 11])\n",
            "Второе по величине значение: tensor(89)\n",
            "Индекс второго по величине значения: tensor(6)\n"
          ]
        }
      ]
    },
    {
      "cell_type": "markdown",
      "metadata": {
        "id": "Xshsy8fD1RDE"
      },
      "source": [
        "## 1.2 Распространение"
      ]
    },
    {
      "cell_type": "markdown",
      "metadata": {
        "id": "jlP22HAJCo28"
      },
      "source": [
        "[Numpy broadcasting](https://numpy.org/devdocs/user/theory.broadcasting.html)\n",
        "\n",
        "[Torch broadcasting](https://pytorch.org/docs/stable/notes/broadcasting.html)"
      ]
    },
    {
      "cell_type": "markdown",
      "metadata": {
        "id": "uRD6-8Gd1RDF"
      },
      "source": [
        "1.2.1 Создать тензор 11x7 вида: `[[1, 2, 3, ..., 7], [11, 12, 13, ..., 17], [21, 22, 23, ..., 27], ..., [101, 102, 103, ..., 107]]`. При решении задачи применить технику распространения."
      ]
    },
    {
      "cell_type": "code",
      "source": [
        "start_row = torch.arange(1, 8)\n",
        "\n",
        "rows = torch.arange(0, 11).unsqueeze(1) * 10 + start_row\n",
        "\n",
        "print(rows)"
      ],
      "metadata": {
        "colab": {
          "base_uri": "https://localhost:8080/"
        },
        "id": "ti9OEL6g-fgJ",
        "outputId": "17f42905-bdf6-49e1-84eb-78f5564b409a"
      },
      "execution_count": null,
      "outputs": [
        {
          "output_type": "stream",
          "name": "stdout",
          "text": [
            "tensor([[  1,   2,   3,   4,   5,   6,   7],\n",
            "        [ 11,  12,  13,  14,  15,  16,  17],\n",
            "        [ 21,  22,  23,  24,  25,  26,  27],\n",
            "        [ 31,  32,  33,  34,  35,  36,  37],\n",
            "        [ 41,  42,  43,  44,  45,  46,  47],\n",
            "        [ 51,  52,  53,  54,  55,  56,  57],\n",
            "        [ 61,  62,  63,  64,  65,  66,  67],\n",
            "        [ 71,  72,  73,  74,  75,  76,  77],\n",
            "        [ 81,  82,  83,  84,  85,  86,  87],\n",
            "        [ 91,  92,  93,  94,  95,  96,  97],\n",
            "        [101, 102, 103, 104, 105, 106, 107]])\n"
          ]
        }
      ]
    },
    {
      "cell_type": "markdown",
      "metadata": {
        "id": "iSY9Iday1RDF"
      },
      "source": [
        "1.2.2 Вычесть одномерный тензор `b_1d` из двухмерного тензора `a_2d`, так, чтобы каждый элемент одномерного тензора вычитался из всех элементов соответствующих строк двумерного тензора.\n",
        "\n",
        "_Пример:_\n",
        "\n",
        "Для входа:\n",
        "```python\n",
        "a_2d = np.array([[3,3,3],[4,4,4],[5,5,5]])\n",
        "b_1d = np.array([1,2,3])\n",
        "```\n",
        "\n",
        "Ожидается резульат:\n",
        "\n",
        "```python\n",
        "[[2 2 2]\n",
        " [2 2 2]\n",
        " [2 2 2]]\n",
        "```"
      ]
    },
    {
      "cell_type": "code",
      "source": [
        "a_2d = torch.tensor([[3, 3, 3], [4, 4, 4], [5, 5, 5]])\n",
        "b_1d = torch.tensor([1, 2, 3])\n",
        "\n",
        "b_1d_unsqueezed = b_1d.unsqueeze(1)\n",
        "result = a_2d - b_1d_unsqueezed\n",
        "\n",
        "print(\"a_2d:\", a_2d)\n",
        "print(\"\\nb_1d:\", b_1d)\n",
        "print(\"\\nРезультат вычитания:\")\n",
        "print(result)"
      ],
      "metadata": {
        "colab": {
          "base_uri": "https://localhost:8080/"
        },
        "id": "yzKfb45vDKTT",
        "outputId": "ee813512-6b43-445e-f0da-641bb4f286fb"
      },
      "execution_count": null,
      "outputs": [
        {
          "output_type": "stream",
          "name": "stdout",
          "text": [
            "a_2d: tensor([[3, 3, 3],\n",
            "        [4, 4, 4],\n",
            "        [5, 5, 5]])\n",
            "\n",
            "b_1d: tensor([1, 2, 3])\n",
            "\n",
            "Результат вычитания:\n",
            "tensor([[2, 2, 2],\n",
            "        [2, 2, 2],\n",
            "        [2, 2, 2]])\n"
          ]
        }
      ]
    },
    {
      "cell_type": "markdown",
      "metadata": {
        "id": "dFTvPsY91RDF"
      },
      "source": [
        "## 1.3 Индексы, маскирование и прихотливое индексирование\n",
        "\n",
        "[Документация по функциям для работы с индексами](https://pytorch.org/docs/stable/torch.html#indexing-slicing-joining-mutating-ops)"
      ]
    },
    {
      "cell_type": "markdown",
      "metadata": {
        "id": "McYtDYhH1RDG"
      },
      "source": [
        "1.3.1 Получить индексы, для которых элементы тензоров `a` и `b` совпадают.\n",
        "\n",
        "_Пример:_\n",
        "\n",
        "Для входа:\n",
        "```python\n",
        "a = np.array([1,2,3,2,3,4,3,4,5,6])\n",
        "b = np.array([7,2,10,2,7,4,9,4,9,8])\n",
        "```\n",
        "\n",
        "Ожидается резульат:\n",
        "\n",
        "```python\n",
        "array([1, 3, 5, 7])\n",
        "```"
      ]
    },
    {
      "cell_type": "code",
      "source": [
        "a = torch.tensor([1, 2, 3, 2, 3, 4, 3, 4, 5, 6])\n",
        "b = torch.tensor([7, 2, 10, 2, 7, 4, 9, 4, 9, 8])\n",
        "\n",
        "matching_indices = torch.where(a == b)[0]\n",
        "\n",
        "print(\"Индексы совпадений:\")\n",
        "print(matching_indices)"
      ],
      "metadata": {
        "colab": {
          "base_uri": "https://localhost:8080/"
        },
        "id": "m-WHRrFxEkL6",
        "outputId": "2ecf08f3-bffd-40c9-face-c6c1915816a0"
      },
      "execution_count": null,
      "outputs": [
        {
          "output_type": "stream",
          "name": "stdout",
          "text": [
            "Индексы совпадений:\n",
            "tensor([1, 3, 5, 7])\n"
          ]
        }
      ]
    },
    {
      "cell_type": "markdown",
      "metadata": {
        "id": "MnBq3nfy1RDG"
      },
      "source": [
        "1.3.2 Инвертировать порядок элементов в двумерном тензоре `torch.arange(9).view(3,3)`.\n",
        "\n",
        "Ожидаемый результат:\n",
        "\n",
        "\n",
        "```python\n",
        "array([[8, 7, 6],\n",
        "       [5, 4, 3],\n",
        "       [2, 1, 0]])\n",
        "```"
      ]
    },
    {
      "cell_type": "code",
      "source": [
        "tensor = torch.arange(9).view(3, 3)\n",
        "print(\"Исходный тензор:\")\n",
        "print(tensor)\n",
        "\n",
        "inverted_tensor = tensor.flip(dims=[0, 1])\n",
        "print(\"\\nИнвертированный тензор:\")\n",
        "print(inverted_tensor)"
      ],
      "metadata": {
        "colab": {
          "base_uri": "https://localhost:8080/"
        },
        "id": "AD4PqunFUN6X",
        "outputId": "c49ffb2d-4c03-44fa-f20d-0cc65af3cdd8"
      },
      "execution_count": null,
      "outputs": [
        {
          "output_type": "stream",
          "name": "stdout",
          "text": [
            "Исходный тензор:\n",
            "tensor([[0, 1, 2],\n",
            "        [3, 4, 5],\n",
            "        [6, 7, 8]])\n",
            "\n",
            "Инвертированный тензор:\n",
            "tensor([[8, 7, 6],\n",
            "        [5, 4, 3],\n",
            "        [2, 1, 0]])\n"
          ]
        }
      ]
    },
    {
      "cell_type": "markdown",
      "metadata": {
        "id": "tANsLnOC1RDH"
      },
      "source": [
        "1.3.3 Из входного тензора a получить только элементы, находящиеся в диапазоне от 5 до 10.\n",
        "\n",
        "_Пример:_\n",
        "\n",
        "Для входа:\n",
        "```python\n",
        "a = np.array([2, 6, 1, 9, 10, 3, 27])\n",
        "```\n",
        "\n",
        "Ожидается резульат:\n",
        "\n",
        "```python\n",
        "array([6, 9, 10])\n",
        "```"
      ]
    },
    {
      "cell_type": "code",
      "source": [
        "a = torch.tensor([2, 6, 1, 9, 10, 3, 27])\n",
        "\n",
        "result = a[(a >= 5) & (a <= 10)]\n",
        "\n",
        "print(\"Исходный тензор:\")\n",
        "print(a)\n",
        "\n",
        "print(\"\\nРезультат:\")\n",
        "print(result)"
      ],
      "metadata": {
        "colab": {
          "base_uri": "https://localhost:8080/"
        },
        "id": "sSAeC9ZOVjoo",
        "outputId": "7acc7dfe-9a7b-4d34-f600-a7edc89fd1bc"
      },
      "execution_count": null,
      "outputs": [
        {
          "output_type": "stream",
          "name": "stdout",
          "text": [
            "Исходный тензор:\n",
            "tensor([ 2,  6,  1,  9, 10,  3, 27])\n",
            "\n",
            "Результат:\n",
            "tensor([ 6,  9, 10])\n"
          ]
        }
      ]
    },
    {
      "cell_type": "markdown",
      "metadata": {
        "id": "3vlK0gV21RDH"
      },
      "source": [
        "1.3.4 Поменять местами столбец 1 и 2 тензора `np.arange(9).reshape(3,3)`"
      ]
    },
    {
      "cell_type": "code",
      "source": [
        "tensor = torch.arange(9).reshape(3, 3)\n",
        "print(\"Исходный тензор:\")\n",
        "print(tensor)\n",
        "\n",
        "tensor[:, [0, 1, 2]] = tensor[:, [1, 0, 2]]\n",
        "\n",
        "print(\"\\nТензор после перестановки столбцов:\")\n",
        "print(tensor)"
      ],
      "metadata": {
        "colab": {
          "base_uri": "https://localhost:8080/"
        },
        "id": "vukfAZw7WoR2",
        "outputId": "db9ad1d3-243b-4b7a-e382-ba4ea2c5ebce"
      },
      "execution_count": null,
      "outputs": [
        {
          "output_type": "stream",
          "name": "stdout",
          "text": [
            "Исходный тензор:\n",
            "tensor([[0, 1, 2],\n",
            "        [3, 4, 5],\n",
            "        [6, 7, 8]])\n",
            "\n",
            "Тензор после перестановки столбцов:\n",
            "tensor([[1, 0, 2],\n",
            "        [4, 3, 5],\n",
            "        [7, 6, 8]])\n"
          ]
        }
      ]
    },
    {
      "cell_type": "markdown",
      "metadata": {
        "id": "cheFtWhU1RDH"
      },
      "source": [
        "1.3.5 Создать тензор 8 на 10 из случайных целых чисел из диапазона от 0 до 10 и найти в ней строку (ее индекс и вывести саму строку), в которой сумма значений минимальна."
      ]
    },
    {
      "cell_type": "code",
      "source": [
        "tensor = torch.randint(0, 11, (8, 10))\n",
        "print(\"Исходный тензор:\")\n",
        "print(tensor)\n",
        "\n",
        "row_sums = tensor.sum(dim=1)\n",
        "min_sum_index = row_sums.argmin()\n",
        "min_sum_row = tensor[min_sum_index]\n",
        "print(\"\\nСтрока с минимальной суммой:\")\n",
        "print(min_sum_row)"
      ],
      "metadata": {
        "colab": {
          "base_uri": "https://localhost:8080/"
        },
        "id": "o-sBowauWrux",
        "outputId": "79114ce1-176e-4bb8-e024-82488a336981"
      },
      "execution_count": null,
      "outputs": [
        {
          "output_type": "stream",
          "name": "stdout",
          "text": [
            "Исходный тензор:\n",
            "tensor([[ 0,  8,  2,  2,  5,  2,  7,  1,  0,  4],\n",
            "        [ 2,  1,  4,  2,  1,  2,  4,  6,  3,  4],\n",
            "        [ 3,  1,  1,  6,  5,  3,  3,  5,  2,  7],\n",
            "        [ 1,  3, 10,  7,  9,  8,  2, 10,  7,  2],\n",
            "        [ 6,  6,  3,  7,  5,  9,  2,  9,  3,  7],\n",
            "        [ 7,  3, 10,  7,  0,  7,  4,  4,  1,  3],\n",
            "        [ 2,  7,  9,  3, 10,  3,  4,  8,  2,  3],\n",
            "        [ 3,  3,  5,  0, 10,  1,  0,  6,  8,  9]])\n",
            "\n",
            "Строка с минимальной суммой:\n",
            "tensor([2, 1, 4, 2, 1, 2, 4, 6, 3, 4])\n"
          ]
        }
      ]
    },
    {
      "cell_type": "markdown",
      "metadata": {
        "id": "grOCNU4XFE2B"
      },
      "source": [
        "1.3.6 Cоздать тензор из 20 случайных целых чисел от 0 до 100. Обрезать значения тензора (заменить значения, выходящие за диапазон, на крайние значения) снизу по значению 30, сверху по значению 70."
      ]
    },
    {
      "cell_type": "code",
      "source": [
        "tensor = torch.randint(0, 101, (20,))\n",
        "print(\"Исходный тензор:\")\n",
        "print(tensor)\n",
        "\n",
        "clamped_tensor = torch.clamp(tensor, min=30, max=70)\n",
        "\n",
        "print(\"\\nТензор после обрезки значений:\")\n",
        "print(clamped_tensor)"
      ],
      "metadata": {
        "colab": {
          "base_uri": "https://localhost:8080/"
        },
        "id": "Ggsw60sQWtHW",
        "outputId": "9fde66d4-7f6b-488a-d526-267df2d49dd1"
      },
      "execution_count": null,
      "outputs": [
        {
          "output_type": "stream",
          "name": "stdout",
          "text": [
            "Исходный тензор:\n",
            "tensor([65, 65, 95, 81, 31, 19, 83, 81, 55, 61, 15, 62, 43, 24, 44, 29, 63, 34,\n",
            "        91, 69])\n",
            "\n",
            "Тензор после обрезки значений:\n",
            "tensor([65, 65, 70, 70, 31, 30, 70, 70, 55, 61, 30, 62, 43, 30, 44, 30, 63, 34,\n",
            "        70, 69])\n"
          ]
        }
      ]
    },
    {
      "cell_type": "markdown",
      "metadata": {
        "id": "HNfQjY8P1RDI"
      },
      "source": [
        "1.3.7 Создать два тензора размера 30 на 3 из случайных целых чисел из диапазона от 0 до 10 и найти все значения первого тензора, которые больше соответсвующих (по расположению) значений второго тензора. Подсчитать сумму этих значений."
      ]
    },
    {
      "cell_type": "code",
      "source": [
        "tensor1 = torch.randint(0, 11, (30, 3))\n",
        "tensor2 = torch.randint(0, 11, (30, 3))\n",
        "\n",
        "values_greater = tensor1[tensor1 > tensor2]\n",
        "sum_greater_values = values_greater.sum()\n",
        "\n",
        "print(\"\\nЗначения первого тензора, которые больше соответствующих значений второго тензора:\")\n",
        "print(values_greater)\n",
        "print(\"\\nСумма этих значений:\")\n",
        "print(sum_greater_values.item())"
      ],
      "metadata": {
        "colab": {
          "base_uri": "https://localhost:8080/"
        },
        "id": "OHthsvrkWttD",
        "outputId": "1b1b4a54-4fe8-47ba-ceca-b6b8644a78ac"
      },
      "execution_count": null,
      "outputs": [
        {
          "output_type": "stream",
          "name": "stdout",
          "text": [
            "\n",
            "Значения первого тензора, которые больше соответствующих значений второго тензора:\n",
            "tensor([ 7,  9,  3, 10,  5,  1,  5,  9, 10,  6, 10, 10,  9, 10,  8,  7,  9,  6,\n",
            "         7, 10,  6, 10,  6,  5, 10,  7,  9,  6,  4,  9,  9,  9,  9,  4,  5,  6,\n",
            "        10,  8,  1,  7, 10,  8,  9, 10])\n",
            "\n",
            "Сумма этих значений:\n",
            "328\n"
          ]
        }
      ]
    },
    {
      "cell_type": "markdown",
      "metadata": {
        "id": "doBCxYJA1RDI"
      },
      "source": [
        "1.3.8 При помощи прихотливого индексирования для двухмерного массива размерности (20, 20), состоящего из случайных целых чисел в пределах от 0 до 10 получить массив элементов находящихся на диагонали, проходящей над основной диагональю."
      ]
    },
    {
      "cell_type": "code",
      "source": [
        "tensor = torch.randint(0, 11, (20, 20))\n",
        "\n",
        "diag_elements = torch.diagonal(tensor, offset=1)\n",
        "\n",
        "print(\"\\nЭлементы диагонали, проходящей над основной диагональю:\")\n",
        "print(diag_elements)"
      ],
      "metadata": {
        "colab": {
          "base_uri": "https://localhost:8080/"
        },
        "id": "Mr_k9j3gWuWo",
        "outputId": "1b69b31b-a3ef-4372-c842-137662ad3fb3"
      },
      "execution_count": null,
      "outputs": [
        {
          "output_type": "stream",
          "name": "stdout",
          "text": [
            "\n",
            "Элементы диагонали, проходящей над основной диагональю:\n",
            "tensor([10,  2,  8,  5,  0,  9,  6,  7,  2,  5,  7,  5,  9,  8,  8,  1,  2,  3,\n",
            "         3])\n"
          ]
        }
      ]
    },
    {
      "cell_type": "markdown",
      "metadata": {
        "id": "6M1lkfLp1RDJ"
      },
      "source": [
        "1.3.9 Задать два двухмерных тензора `ar1` и `ar2` размерности (5, 10), состоящих из случайных целых чисел в пределах от 0 до 10. Удвоить все значения `ar1`, которые совпадают со значениями `ar2`, расположенными на аналогичных позициях."
      ]
    },
    {
      "cell_type": "code",
      "source": [
        "ar1 = torch.randint(0, 11, (5, 10))\n",
        "ar2 = torch.randint(0, 11, (5, 10))\n",
        "print(\"ar1:\")\n",
        "print(ar1)\n",
        "print(\"\\nar2:\")\n",
        "print(ar2)\n",
        "\n",
        "ar1[ar1 == ar2] *= 2\n",
        "\n",
        "print(\"\\nИзмененный ar1:\")\n",
        "print(ar1)"
      ],
      "metadata": {
        "colab": {
          "base_uri": "https://localhost:8080/"
        },
        "id": "Q5KbUljaWu8t",
        "outputId": "cc5e7e61-0fff-4ab4-b18d-58032242b312"
      },
      "execution_count": null,
      "outputs": [
        {
          "output_type": "stream",
          "name": "stdout",
          "text": [
            "ar1:\n",
            "tensor([[ 0,  8,  3,  2,  5,  2,  3,  0,  4,  6],\n",
            "        [ 4,  7,  1,  0,  5,  4,  2,  2, 10,  1],\n",
            "        [ 7,  0,  5,  4,  3,  5,  3,  3,  8,  9],\n",
            "        [ 5,  4, 10,  4,  8,  6, 10,  9,  7,  6],\n",
            "        [ 9,  1,  0,  9,  3,  0,  7,  5,  6,  2]])\n",
            "\n",
            "ar2:\n",
            "tensor([[ 8,  7,  0,  8,  3,  7,  4,  6,  8,  3],\n",
            "        [ 3,  5,  1,  2,  2,  8,  9,  6,  9,  3],\n",
            "        [ 3,  8,  9,  5,  4, 10,  7,  5,  9, 10],\n",
            "        [ 9,  0,  7,  8,  3,  4,  5, 10,  0, 10],\n",
            "        [ 3,  6,  7,  3,  1,  9,  0,  1,  6,  0]])\n",
            "\n",
            "Измененный ar1:\n",
            "tensor([[ 0,  8,  3,  2,  5,  2,  3,  0,  4,  6],\n",
            "        [ 4,  7,  2,  0,  5,  4,  2,  2, 10,  1],\n",
            "        [ 7,  0,  5,  4,  3,  5,  3,  3,  8,  9],\n",
            "        [ 5,  4, 10,  4,  8,  6, 10,  9,  7,  6],\n",
            "        [ 9,  1,  0,  9,  3,  0,  7,  5, 12,  2]])\n"
          ]
        }
      ]
    },
    {
      "cell_type": "markdown",
      "metadata": {
        "id": "Qe2oVr4p1RDJ"
      },
      "source": [
        "1.3.10 Заданы три двухмерных тензора `ar1`, `ar2` и `ar3` размерности (4, 7), состоящие из случайных целых чисел в пределах от 0 до 10. Обнулить все элементы `ar1`, которые больше соответствующих (находящихся в соответствующих позициях) элементов `ar2` и меньше соответствующих элементов `ar3`."
      ]
    },
    {
      "cell_type": "code",
      "source": [
        "ar1 = torch.randint(0, 11, (4, 7))\n",
        "ar2 = torch.randint(0, 11, (4, 7))\n",
        "ar3 = torch.randint(0, 11, (4, 7))\n",
        "\n",
        "mask = (ar1 > ar2) & (ar1 < ar3)\n",
        "ar1[mask] = 0\n",
        "\n",
        "print(\"\\nИзмененный ar1:\")\n",
        "print(ar1)"
      ],
      "metadata": {
        "colab": {
          "base_uri": "https://localhost:8080/"
        },
        "id": "cMSjqqzlXMFZ",
        "outputId": "4468a58a-8ad8-4b78-af18-b2b734e555f4"
      },
      "execution_count": null,
      "outputs": [
        {
          "output_type": "stream",
          "name": "stdout",
          "text": [
            "\n",
            "Измененный ar1:\n",
            "tensor([[ 2,  0,  1,  0,  0,  2,  5],\n",
            "        [ 4,  1,  5,  9,  8,  7,  0],\n",
            "        [ 0,  8,  5,  2,  5,  3,  6],\n",
            "        [10,  1,  9,  9, 10,  0,  1]])\n"
          ]
        }
      ]
    },
    {
      "cell_type": "markdown",
      "metadata": {
        "id": "BTcRVeYh1RDK"
      },
      "source": [
        "1.3.11 Задан двумерный тензор `ar1` размерности (20, 5), состоящий из случайных целых чисел в пределах от 0 до 20. Определить, в каких столбцах не менее 5 раз встречается значение, максимальное по своей строке."
      ]
    },
    {
      "cell_type": "code",
      "source": [
        "ar1 = torch.randint(0, 21, (20, 5))\n",
        "\n",
        "max_values_per_row, _ = torch.max(ar1, dim=1)\n",
        "is_max_value = ar1 == max_values_per_row.unsqueeze(1)\n",
        "count_max_in_columns = is_max_value.sum(dim=0)\n",
        "columns_with_max_value_at_least_5_times = count_max_in_columns >= 5\n",
        "\n",
        "print(\"\\nКоличество вхождений максимальных значений по столбцам:\")\n",
        "print(count_max_in_columns)\n",
        "print(\"\\nСтолбцы, в которых максимальное значение встречается не менее 5 раз:\")\n",
        "print(columns_with_max_value_at_least_5_times.nonzero(as_tuple=True)[0]) # по одному измерению"
      ],
      "metadata": {
        "colab": {
          "base_uri": "https://localhost:8080/"
        },
        "id": "JzVivdXmXM5w",
        "outputId": "ac48b74e-a2f2-4f73-f547-b4a014225ece"
      },
      "execution_count": null,
      "outputs": [
        {
          "output_type": "stream",
          "name": "stdout",
          "text": [
            "\n",
            "Количество вхождений максимальных значений по столбцам:\n",
            "tensor([5, 4, 3, 2, 7])\n",
            "\n",
            "Столбцы, в которых максимальное значение встречается не менее 5 раз:\n",
            "tensor([0, 4])\n"
          ]
        }
      ]
    },
    {
      "cell_type": "markdown",
      "metadata": {
        "id": "ZeYlNWNE1RDK"
      },
      "source": [
        "1.3.12 Задан двумерный тензор `ar1` размерности (4, 7), состоящий из случайных  чисел в пределах от 0 до 1. Обнулить все значения в массиве, расположенные строго правее и ниже максимального элемента массива."
      ]
    },
    {
      "cell_type": "code",
      "source": [
        "ar1 = torch.rand((4, 7))\n",
        "print(ar1)\n",
        "\n",
        "max_idx = torch.argmax(ar1)\n",
        "max_idx = torch.unravel_index(max_idx, ar1.shape)\n",
        "print(\"Max value:\", ar1[max_idx])\n",
        "print(\"Max index:\", max_idx)\n",
        "\n",
        "ar1[max_idx[0]+1:, :] = 0\n",
        "ar1[:, max_idx[1]+1:] = 0\n",
        "\n",
        "print(\"Modified tensor:\")\n",
        "print(ar1)"
      ],
      "metadata": {
        "colab": {
          "base_uri": "https://localhost:8080/"
        },
        "id": "nFEsp2APXNqM",
        "outputId": "e0fa36b7-9fce-41f5-b372-b80c488d5d14"
      },
      "execution_count": null,
      "outputs": [
        {
          "output_type": "stream",
          "name": "stdout",
          "text": [
            "tensor([[0.5476, 0.6899, 0.5198, 0.8788, 0.2437, 0.8388, 0.8620],\n",
            "        [0.9133, 0.8108, 0.4793, 0.9102, 0.5615, 0.2369, 0.3948],\n",
            "        [0.6143, 0.8668, 0.1242, 0.2791, 0.0528, 0.7374, 0.8918],\n",
            "        [0.2950, 0.1544, 0.7115, 0.7925, 0.8640, 0.8029, 0.7336]])\n",
            "Max value: tensor(0.9133)\n",
            "Max index: (tensor(1), tensor(0))\n",
            "Modified tensor:\n",
            "tensor([[0.5476, 0.0000, 0.0000, 0.0000, 0.0000, 0.0000, 0.0000],\n",
            "        [0.9133, 0.0000, 0.0000, 0.0000, 0.0000, 0.0000, 0.0000],\n",
            "        [0.0000, 0.0000, 0.0000, 0.0000, 0.0000, 0.0000, 0.0000],\n",
            "        [0.0000, 0.0000, 0.0000, 0.0000, 0.0000, 0.0000, 0.0000]])\n"
          ]
        }
      ]
    },
    {
      "cell_type": "markdown",
      "metadata": {
        "id": "pYxX90B11RDL"
      },
      "source": [
        "1.3.13 Построить \"one-hot encoding\" для одномерного тензора, содержащего целые числа (длина вектора заранее неизвестна, набор значений заранее неизвестен, при этом в итоговой матрице должны присутствовать столбцы для всех натуральных чисел вплоть до максимального встречающегося в исходном массиве).\n",
        "\n",
        "Пример:\n",
        "\n",
        "для тензора `torch.tensor([2, 3, 2, 2, 2, 1])`.\n",
        "\n",
        "Ожидается результат:\n",
        "\n",
        "```python\n",
        "tensor([[0., 1., 0.],\n",
        "        [0., 0., 1.],\n",
        "        [0., 1., 0.],\n",
        "        [0., 1., 0.],\n",
        "        [0., 1., 0.],\n",
        "        [1., 0., 0.]])\n",
        "```"
      ]
    },
    {
      "cell_type": "code",
      "source": [
        "ar1 = torch.tensor([2, 3, 2, 2, 2, 1])\n",
        "\n",
        "ar2 = torch.zeros(ar1.shape[0], ar1.max())\n",
        "\n",
        "result = torch.scatter(ar2, 1, ar1.unsqueeze(1) - ar1.min(), 1) # по столбцу\n",
        "print(result)"
      ],
      "metadata": {
        "colab": {
          "base_uri": "https://localhost:8080/"
        },
        "id": "zOFqxXdYXOhV",
        "outputId": "311c88b3-9adb-4906-bc82-6a1d54ef97c6"
      },
      "execution_count": null,
      "outputs": [
        {
          "output_type": "stream",
          "name": "stdout",
          "text": [
            "tensor([[0., 1., 0.],\n",
            "        [0., 0., 1.],\n",
            "        [0., 1., 0.],\n",
            "        [0., 1., 0.],\n",
            "        [0., 1., 0.],\n",
            "        [1., 0., 0.]])\n"
          ]
        }
      ]
    },
    {
      "cell_type": "markdown",
      "metadata": {
        "id": "GYU8DmNTDLN8"
      },
      "source": [
        "1.3.14 Создать тензор `arr` из 20 случайных целых чисел от 0 до 100. Найти самое частое значение в тензоре.\n",
        "Найти индексы в тензоре, соответствующие самому частому значению. Проверить, как работет алгоритм при двух значениях, имеющих наибольшую встречаемость, предложить приемлемое поведение алгоритма для этого случая."
      ]
    },
    {
      "cell_type": "code",
      "source": [
        "arr = torch.randint(0, 101, (20,))\n",
        "\n",
        "values, counts = arr.unique(return_counts=True)\n",
        "max_count = counts.max()\n",
        "most_values = values[counts == max_count]\n",
        "indices = torch.nonzero(arr.unsqueeze(1) == most_values.unsqueeze(0))[:, 0]\n",
        "\n",
        "print(arr)\n",
        "print(most_values)\n",
        "print(indices)"
      ],
      "metadata": {
        "id": "uXM7Gw2dXPPh",
        "colab": {
          "base_uri": "https://localhost:8080/"
        },
        "outputId": "6e6a5446-6b9f-4f8c-bebd-1ef58317da35"
      },
      "execution_count": null,
      "outputs": [
        {
          "output_type": "stream",
          "name": "stdout",
          "text": [
            "tensor([64, 72, 68, 13, 87, 85, 72, 48, 80, 93, 28, 42,  4, 15, 47, 79,  0, 64,\n",
            "        87, 57])\n",
            "tensor([64, 72, 87])\n",
            "tensor([ 0,  1,  4,  6, 17, 18])\n"
          ]
        }
      ]
    },
    {
      "cell_type": "markdown",
      "metadata": {
        "id": "UenAEfEG1RDN"
      },
      "source": [
        "## 1.4 Математические задачи"
      ]
    },
    {
      "cell_type": "markdown",
      "metadata": {
        "id": "6weDrqJR1RDN"
      },
      "source": [
        "1.4.1 Приблизительно (с погрешностью порядка 1%) рассчитать на какой части интервала от 0 до 10 значение функции x * sin(x) больше 0.5."
      ]
    },
    {
      "cell_type": "code",
      "source": [
        "x = torch.arange(0, 10, 0.01)\n",
        "y = x * torch.sin(x)\n",
        "\n",
        "count_above_threshold = (y > 0.5).sum().item()\n",
        "total_points = len(y)\n",
        "doly = count_above_threshold / total_points\n",
        "\n",
        "print(f\"Доля интервала, на котором y > 0.5: {doly}%\")"
      ],
      "metadata": {
        "colab": {
          "base_uri": "https://localhost:8080/"
        },
        "id": "e-mtClJfM5vo",
        "outputId": "651e323c-58c7-4c48-9ba1-827868b77f07"
      },
      "execution_count": null,
      "outputs": [
        {
          "output_type": "stream",
          "name": "stdout",
          "text": [
            "Доля интервала, на котором y > 0.5: 0.524%\n"
          ]
        }
      ]
    },
    {
      "cell_type": "markdown",
      "metadata": {
        "id": "B9xAv8TR1RDN"
      },
      "source": [
        "1.4.2 Найти все простые числа в пределах ста. (Для решения предлагается использовать Решето Эратосфена) Использовать не более 1 цикла (желательно)."
      ]
    },
    {
      "cell_type": "code",
      "source": [
        "tensor = torch.arange(2, 100)\n",
        "\n",
        "for i in [2, 3, 5]:\n",
        "  tensor = tensor[tensor%i != 0]\n",
        "new_tensor = torch.cat((torch.tensor([2, 3, 5]), tensor))\n",
        "\n",
        "print(\"Простые числа в пределах 100:\", new_tensor)"
      ],
      "metadata": {
        "colab": {
          "base_uri": "https://localhost:8080/"
        },
        "id": "9u_a0W6TM6Q8",
        "outputId": "b2353660-b289-4d15-aaf8-c946d4a5fab4"
      },
      "execution_count": null,
      "outputs": [
        {
          "output_type": "stream",
          "name": "stdout",
          "text": [
            "Простые числа в пределах 100: tensor([ 2,  3,  5,  7, 11, 13, 17, 19, 23, 29, 31, 37, 41, 43, 47, 49, 53, 59,\n",
            "        61, 67, 71, 73, 77, 79, 83, 89, 91, 97])\n"
          ]
        }
      ]
    },
    {
      "cell_type": "markdown",
      "metadata": {
        "id": "AHupFoTR1RDN"
      },
      "source": [
        "1.4.3 Найти евклидово расстояние между двумя одномерными тензорами одинаковой размерности, не используя готовые решения из библиотек."
      ]
    },
    {
      "cell_type": "code",
      "source": [
        "x = torch.tensor([10, 20, 30, 50, 60])\n",
        "y = torch.tensor([2, 3, 4, 5, 6])\n",
        "\n",
        "euclidean_distance = torch.sqrt(torch.sum((x - y) ** 2))\n",
        "\n",
        "print(\"Евклидово расстояние:\", euclidean_distance.item())"
      ],
      "metadata": {
        "colab": {
          "base_uri": "https://localhost:8080/"
        },
        "id": "qzuqfsvTM6zp",
        "outputId": "1fbae53b-f569-4fae-b1c9-00b815ef4646"
      },
      "execution_count": null,
      "outputs": [
        {
          "output_type": "stream",
          "name": "stdout",
          "text": [
            "Евклидово расстояние: 77.26577758789062\n"
          ]
        }
      ]
    },
    {
      "cell_type": "markdown",
      "metadata": {
        "id": "j-ZvjWDKDVMQ"
      },
      "source": [
        "1.4.4 Создать двумерный тензор 20 на 3, содержащий случайные целые числа от 0 до 100.\n",
        "Интерпретируя тензор как 20 векторов из 3х компонент, отсортировать его по длине векторов."
      ]
    },
    {
      "cell_type": "code",
      "source": [
        "tensor = torch.randint(0, 101, (20, 3))\n",
        "\n",
        "lengths = torch.norm(tensor.float(), dim=1) # строки\n",
        "sorted_indices = torch.argsort(lengths)\n",
        "sorted_tensor = tensor[sorted_indices]\n",
        "\n",
        "print(\"Исходный тензор:\\n\", tensor)\n",
        "print(\"\\nДлины векторов:\\n\", lengths)\n",
        "print(\"\\nОтсортированный тензор:\\n\", sorted_tensor)"
      ],
      "metadata": {
        "colab": {
          "base_uri": "https://localhost:8080/"
        },
        "id": "EIfsmOgtM7X2",
        "outputId": "d11ec5df-0ca6-4f93-edc7-035e2cd5ce42"
      },
      "execution_count": null,
      "outputs": [
        {
          "output_type": "stream",
          "name": "stdout",
          "text": [
            "Исходный тензор:\n",
            " tensor([[ 5, 13, 62],\n",
            "        [30, 15, 43],\n",
            "        [91, 82, 77],\n",
            "        [ 0, 29,  2],\n",
            "        [24, 19, 34],\n",
            "        [88, 95, 35],\n",
            "        [ 7, 55, 23],\n",
            "        [70, 25, 85],\n",
            "        [67, 85,  9],\n",
            "        [75, 46, 78],\n",
            "        [58, 93, 91],\n",
            "        [42, 80, 22],\n",
            "        [28, 48, 17],\n",
            "        [ 9, 13, 45],\n",
            "        [63, 76, 60],\n",
            "        [77, 92, 42],\n",
            "        [90, 30, 80],\n",
            "        [18, 14,  8],\n",
            "        [64, 12,  2],\n",
            "        [20, 78, 77]])\n",
            "\n",
            "Длины векторов:\n",
            " tensor([ 63.5453,  54.5344, 144.6859,  29.0689,  45.7493, 134.1417,  60.0250,\n",
            "        112.9159, 108.6048, 117.5798, 142.4570,  92.9946,  58.1120,  47.6970,\n",
            "        115.5206, 127.1102, 124.0967,  24.1661,  65.1460, 111.4136])\n",
            "\n",
            "Отсортированный тензор:\n",
            " tensor([[18, 14,  8],\n",
            "        [ 0, 29,  2],\n",
            "        [24, 19, 34],\n",
            "        [ 9, 13, 45],\n",
            "        [30, 15, 43],\n",
            "        [28, 48, 17],\n",
            "        [ 7, 55, 23],\n",
            "        [ 5, 13, 62],\n",
            "        [64, 12,  2],\n",
            "        [42, 80, 22],\n",
            "        [67, 85,  9],\n",
            "        [20, 78, 77],\n",
            "        [70, 25, 85],\n",
            "        [63, 76, 60],\n",
            "        [75, 46, 78],\n",
            "        [90, 30, 80],\n",
            "        [77, 92, 42],\n",
            "        [88, 95, 35],\n",
            "        [58, 93, 91],\n",
            "        [91, 82, 77]])\n"
          ]
        }
      ]
    },
    {
      "cell_type": "markdown",
      "metadata": {
        "id": "IkBRFTKa1RDO"
      },
      "source": [
        "1.4.5 Найти \"локальные максимумы\" в одномерном тензоре (т.е. значения, большие предыдущего и последующего) `torch.tensor([1, 3, 7, 1, 2, 6, 0, 1])` и вывести их индексы."
      ]
    },
    {
      "cell_type": "code",
      "source": [
        "tensor = torch.tensor([1, 3, 7, 1, 2, 6, 0, 1])\n",
        "\n",
        "prev_values = torch.cat((torch.tensor([0]), tensor[:-1]))\n",
        "next_values = torch.cat((tensor[1:], torch.tensor([0])))\n",
        "max = tensor[(tensor > prev_values) & (tensor > next_values)]\n",
        "indices = torch.where((tensor > prev_values) & (tensor > next_values))[0]\n",
        "\n",
        "print(indices)\n",
        "print(max)"
      ],
      "metadata": {
        "colab": {
          "base_uri": "https://localhost:8080/"
        },
        "id": "RPVqmPZrM8A7",
        "outputId": "325072f4-1cfe-4118-a86d-d1e4878a2bf8"
      },
      "execution_count": null,
      "outputs": [
        {
          "output_type": "stream",
          "name": "stdout",
          "text": [
            "tensor([2, 5, 7])\n",
            "tensor([7, 6, 1])\n"
          ]
        }
      ]
    },
    {
      "cell_type": "markdown",
      "metadata": {
        "id": "VXD58rlc1RDP"
      },
      "source": [
        "1.4.6 Задан произвольный массив numpy (например массив из 100 случайных числе от 0 до 1). Необходимо найти в нем число наиболее близкое к заданному."
      ]
    },
    {
      "cell_type": "code",
      "source": [
        "tensor = torch.rand(100)\n",
        "target = 0.5\n",
        "\n",
        "closest_index = torch.abs(tensor - target).argmin()\n",
        "closest_value = tensor[closest_index]\n",
        "\n",
        "print(f\"Тензор: {tensor}\")\n",
        "print(f\"Заданное число: {target}\")\n",
        "print(f\"Ближайшее число: {closest_value.item()}\")"
      ],
      "metadata": {
        "colab": {
          "base_uri": "https://localhost:8080/"
        },
        "id": "C4qI7FABh0ns",
        "outputId": "8d82304f-fbc0-41ce-daaa-ad4ceac2f5c3"
      },
      "execution_count": null,
      "outputs": [
        {
          "output_type": "stream",
          "name": "stdout",
          "text": [
            "Тензор: tensor([0.8639, 0.2969, 0.0578, 0.1777, 0.5628, 0.4570, 0.6266, 0.0534, 0.2057,\n",
            "        0.1763, 0.1813, 0.3930, 0.8844, 0.1263, 0.2501, 0.8513, 0.9433, 0.4961,\n",
            "        0.5244, 0.6822, 0.7090, 0.3140, 0.3084, 0.9335, 0.7178, 0.5806, 0.4037,\n",
            "        0.5809, 0.1022, 0.5277, 0.6963, 0.6620, 0.0584, 0.6884, 0.3217, 0.4252,\n",
            "        0.6463, 0.9006, 0.2511, 0.5924, 0.6289, 0.3481, 0.5726, 0.8922, 0.9661,\n",
            "        0.4334, 0.6286, 0.3186, 0.7850, 0.9399, 0.8700, 0.5004, 0.5693, 0.4852,\n",
            "        0.9301, 0.2842, 0.1593, 0.6188, 0.4944, 0.2646, 0.7469, 0.6901, 0.7931,\n",
            "        0.5797, 0.6896, 0.6218, 0.8364, 0.4309, 0.6493, 0.8149, 0.3325, 0.6185,\n",
            "        0.1763, 0.0388, 0.6256, 0.2556, 0.8801, 0.4110, 0.9293, 0.0170, 0.5817,\n",
            "        0.2477, 0.3888, 0.7130, 0.0134, 0.9038, 0.5996, 0.2194, 0.2784, 0.8452,\n",
            "        0.8907, 0.8071, 0.3862, 0.5299, 0.8587, 0.6385, 0.1509, 0.2040, 0.6662,\n",
            "        0.0592])\n",
            "Заданное число: 0.5\n",
            "Ближайшее число: 0.5003977417945862\n"
          ]
        }
      ]
    },
    {
      "cell_type": "markdown",
      "metadata": {
        "id": "81F_B2ij1RDP"
      },
      "source": [
        "1.4.7 Решить матричное уравнение `A*X*B=-C` - найти матрицу X. Где `A = [[-1, 2, 4], [-3, 1, 2], [-3, 0, 1]]`, `B=[[3, -1], [2, 1]]`, `C=[[7, 21], [11, 8], [8, 4]]`."
      ]
    },
    {
      "cell_type": "code",
      "source": [
        "A = torch.tensor([[-1, 2, 4], [-3, 1, 2], [-3, 0, 1]], dtype=torch.float64)\n",
        "B = torch.tensor([[3, -1], [2, 1]], dtype=torch.float64)\n",
        "C = torch.tensor([[7, 21], [11, 8], [8, 4]], dtype=torch.float64)\n",
        "\n",
        "A_inv = torch.linalg.inv(A)\n",
        "B_inv = torch.linalg.inv(B)\n",
        "X = -torch.matmul(torch.matmul(A_inv, C), B_inv)\n",
        "\n",
        "print(\"Матрица X:\")\n",
        "print(X)"
      ],
      "metadata": {
        "colab": {
          "base_uri": "https://localhost:8080/"
        },
        "id": "_8CHPsbNj9OS",
        "outputId": "46a12561-e976-4c76-d4a7-a241963b82f7"
      },
      "execution_count": null,
      "outputs": [
        {
          "output_type": "stream",
          "name": "stdout",
          "text": [
            "Матрица X:\n",
            "tensor([[ 1.0000, -0.0000],\n",
            "        [-2.0000,  1.0000],\n",
            "        [ 3.0000, -4.0000]], dtype=torch.float64)\n"
          ]
        }
      ]
    },
    {
      "cell_type": "markdown",
      "metadata": {
        "id": "1P7O19bj1RDP"
      },
      "source": [
        "1.4.8 Проверить, является ли система векторов a1 = (3; −3; 0; 7),\n",
        "a2 = (2; 2; 4; 7), a3 = (1; 2; 3; 4), a4 = (5; −4; 1; 3) линейно зависимой?"
      ]
    },
    {
      "cell_type": "code",
      "source": [
        "A = torch.tensor([[3, 2, 1, 5], [-3, 2, 2, -4], [0, 4, 3, 1], [7, 7, 4, 3]], dtype = torch.float64)\n",
        "\n",
        "det_A = torch.det(A)\n",
        "\n",
        "print(det_A)"
      ],
      "metadata": {
        "colab": {
          "base_uri": "https://localhost:8080/"
        },
        "id": "omkuA85zj8qH",
        "outputId": "26145bdb-a81f-4253-db20-b9abb8d9ebd5"
      },
      "execution_count": null,
      "outputs": [
        {
          "output_type": "stream",
          "name": "stdout",
          "text": [
            "tensor(4.0457e-14, dtype=torch.float64)\n"
          ]
        }
      ]
    },
    {
      "cell_type": "markdown",
      "metadata": {
        "id": "Jg_bzMVS1RDQ"
      },
      "source": [
        "1.4.9 Сгенирировать тензор из 200 случайных целых чисел, нормально распрделенных cо стандартным отклонением $\\sigma = 10$ и матожиданием $\\mu = 0$. Построить тензор гистограммы с 20 бинами."
      ]
    },
    {
      "cell_type": "code",
      "source": [
        "import matplotlib.pyplot as plt\n",
        "\n",
        "random_tensor = torch.normal(0, 10, (200,))\n",
        "plt.hist(random_tensor.numpy(), bins=20)\n",
        "\n",
        "plt.title('Гистограмма')\n",
        "plt.show()"
      ],
      "metadata": {
        "colab": {
          "base_uri": "https://localhost:8080/",
          "height": 452
        },
        "id": "1-GeviP_j95O",
        "outputId": "1007d64b-9f92-415a-cf79-c8a340d6a4af"
      },
      "execution_count": null,
      "outputs": [
        {
          "output_type": "display_data",
          "data": {
            "text/plain": [
              "<Figure size 640x480 with 1 Axes>"
            ],
            "image/png": "[encoded data removed]"
          },
          "metadata": {}
        }
      ]
    },
    {
      "cell_type": "code",
      "source": [],
      "metadata": {
        "id": "JLENKYbaqPYR"
      },
      "execution_count": null,
      "outputs": []
    }
  ],
  "metadata": {
    "colab": {
      "provenance": [],
      "collapsed_sections": [
        "vow49PuE1RC9",
        "Xshsy8fD1RDE",
        "dFTvPsY91RDF",
        "UenAEfEG1RDN"
      ]
    },
    "kernelspec": {
      "display_name": "Python 3",
      "language": "python",
      "name": "python3"
    },
    "language_info": {
      "codemirror_mode": {
        "name": "ipython",
        "version": 3
      },
      "file_extension": ".py",
      "mimetype": "text/x-python",
      "name": "python",
      "nbconvert_exporter": "python",
      "pygments_lexer": "ipython3",
      "version": "3.7.6"
    }
  },
  "nbformat": 4,
  "nbformat_minor": 0
}